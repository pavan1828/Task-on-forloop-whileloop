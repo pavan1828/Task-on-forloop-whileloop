{
 "cells": [
  {
   "cell_type": "markdown",
   "id": "b45a260a",
   "metadata": {},
   "source": [
    "17.Create a function which adds spaces before every capital in a word. Uncapitalize the whole string afterwards."
   ]
  },
  {
   "cell_type": "code",
   "execution_count": 2,
   "id": "5f919468",
   "metadata": {},
   "outputs": [
    {
     "name": "stdout",
     "output_type": "stream",
     "text": [
      "Enter a string  add space before vere capital word:MPavanKumar\n",
      "m pavan kumar\n"
     ]
    }
   ],
   "source": [
    "s=input(\"Enter a string  add space before vere capital word:\")\n",
    "r=\"\"\n",
    "for i in  s:\n",
    "    if i.isupper():\n",
    "        r+=\" \"+i\n",
    "    else:\n",
    "        r+=i\n",
    "r=r.lower().lstrip()\n",
    "print(r)"
   ]
  },
  {
   "cell_type": "markdown",
   "id": "37a02ba9",
   "metadata": {},
   "source": [
    "18.Create a function that counts the integer's number of digits."
   ]
  },
  {
   "cell_type": "code",
   "execution_count": 8,
   "id": "170d499a",
   "metadata": {},
   "outputs": [
    {
     "name": "stdout",
     "output_type": "stream",
     "text": [
      "Enter an integer: 12459493254\n",
      "Number of digits: 11\n"
     ]
    }
   ],
   "source": [
    "n1 = int(input(\"Enter an integer: \"))  # integer input\n",
    "n1_str = str(n1)  # Convert the integer to a string to iterate through its digits\n",
    "\n",
    "count = 0  #count variable\n",
    "\n",
    "for i in n1_str:\n",
    "    if i.isdigit(): # check it is digit r not\n",
    "        count += 1 # increment of 1\n",
    "\n",
    "print(\"Number of digits:\", count)\n",
    "\n"
   ]
  },
  {
   "cell_type": "markdown",
   "id": "128f04e1",
   "metadata": {},
   "source": [
    "19.Create a function that performs an even-odd transform to a list, n times. Each even-odd transformation:\n",
    "\n",
    "Adds two (+2) to each odd integer.<br>\n",
    "Subtracts two (-2) from each even integer.\n"
   ]
  },
  {
   "cell_type": "code",
   "execution_count": 2,
   "id": "d62af492",
   "metadata": {},
   "outputs": [
    {
     "name": "stdout",
     "output_type": "stream",
     "text": [
      "[-6, 13, -4, 19, 13]\n"
     ]
    }
   ],
   "source": [
    "l=[4,3,6,9,3] # given list\n",
    "n=5 # no of integers\n",
    "for _ in range(n):\n",
    "    for i in range(len(l)):\n",
    "        if l[i]%2==0: # given number divided by 2\n",
    "            l[i] -=2 # sub by -2\n",
    "        else:\n",
    "            l[i] +=2 # or add by +2\n",
    "print(l)\n"
   ]
  },
  {
   "cell_type": "markdown",
   "id": "897f7f4b",
   "metadata": {},
   "source": [
    "20.Given a string containing unique letters, return a sorted string with the letters that don't appear in the string."
   ]
  },
  {
   "cell_type": "code",
   "execution_count": 3,
   "id": "96813814",
   "metadata": {},
   "outputs": [
    {
     "name": "stdout",
     "output_type": "stream",
     "text": [
      "Enter a string:pavan\n",
      "bcdefghijklmoqrstuwxyz\n"
     ]
    }
   ],
   "source": [
    "s=input(\"Enter a string:\")\n",
    "unique_letters=set(s)\n",
    "ml=\"\"\n",
    "for letter in 'abcdefghijklmnopqrstuvwxyz':\n",
    "    if letter not in unique_letters:\n",
    "        ml +=letter\n",
    "r= ''.join(sorted(ml))\n",
    "print(r)"
   ]
  },
  {
   "cell_type": "markdown",
   "id": "eb61ec49",
   "metadata": {},
   "source": [
    "Create a function that takes a list of numbers and return \"Boom!\" if the digit 7 appears in the list. Otherwise, return \"there is no 7 in the list\"."
   ]
  },
  {
   "cell_type": "code",
   "execution_count": 1,
   "id": "c9e15995",
   "metadata": {},
   "outputs": [
    {
     "name": "stdout",
     "output_type": "stream",
     "text": [
      "Boom!\n"
     ]
    }
   ],
   "source": [
    "list = [1, 2, 3, 4, 5, 6, 7, 8, 9]\n",
    "\n",
    "# Use a for loop to iterate through the list\n",
    "for number in list:\n",
    "    # Check if the current number contains the digit 7\n",
    "    if \"7\" in str(number):\n",
    "        # If it does, print \"Boom!\" and break out of the loop\n",
    "        print(\"Boom!\")\n",
    "        break\n",
    "else:\n",
    "    # If the loop completes without finding the digit 7, print \"no 7 in the list\"\n",
    "    print(\"no 7 in list\")"
   ]
  },
  {
   "cell_type": "markdown",
   "id": "905f1954",
   "metadata": {},
   "source": [
    "Let's assume for the purposes of this challenge that for every layer of fabric you wear when it's cold outside (coats, cardigans, etc), the temperature increases by a tenth of the total.\n",
    "\n",
    "Given n number of layers and a given temperature, return the temperature inside of all those warm fuzzy layers. Round to the nearest tenth of a degree.\n"
   ]
  },
  {
   "cell_type": "code",
   "execution_count": 2,
   "id": "576915b1",
   "metadata": {},
   "outputs": [
    {
     "name": "stdout",
     "output_type": "stream",
     "text": [
      "16.1\n"
     ]
    }
   ],
   "source": [
    "# number of layers\n",
    "n =5\n",
    "temperature = 10\n",
    "\n",
    "for i in range(n):\n",
    "    # calculate the temperature \n",
    "    temperature_increase = temperature/10   \n",
    "    temperature += temperature_increase\n",
    "    \n",
    "# print the final temperature\n",
    "print(round(temperature,1))"
   ]
  },
  {
   "cell_type": "markdown",
   "id": "aaeded1a",
   "metadata": {},
   "source": [
    "You are given one input: a list containing eight 1's and/or 0's. Write a function that takes an 8 bit binary number and converts it to decimal.\n",
    "\n"
   ]
  },
  {
   "cell_type": "code",
   "execution_count": 3,
   "id": "5b575e81",
   "metadata": {},
   "outputs": [
    {
     "name": "stdout",
     "output_type": "stream",
     "text": [
      "Enter number: 10010101\n",
      "149\n"
     ]
    }
   ],
   "source": [
    "# get input from user\n",
    "x = input(\"Enter number: \")\n",
    "decimal = 0    # variable to store the decimal\n",
    "\n",
    "for i in range(len(x)):\n",
    "    # convert the character to an integer and multiply by the corresponding power of 2\n",
    "    decimal += int(x[i]) * (2 ** (len(x) - i - 1))\n",
    "    \n",
    "# print decimal number\n",
    "print(decimal)\n"
   ]
  },
  {
   "cell_type": "markdown",
   "id": "2d598751",
   "metadata": {},
   "source": [
    "Write a function that finds the largest even number in a list. Return -1 if not found. The use of built-in functions max() and sorted() are prohibited."
   ]
  },
  {
   "cell_type": "code",
   "execution_count": 4,
   "id": "e5646dd0",
   "metadata": {},
   "outputs": [
    {
     "name": "stdout",
     "output_type": "stream",
     "text": [
      "6\n"
     ]
    }
   ],
   "source": [
    "list = [1,2,3,4,5,6,7,9,11]\n",
    "largest_even = -1   # initialize the largest even number variable\n",
    "\n",
    "for num in list:\n",
    "    # check the list to find the largest number\n",
    "    if num % 2 == 0 and num > largest_even:\n",
    "        largest_even = num\n",
    "print(largest_even)"
   ]
  },
  {
   "cell_type": "code",
   "execution_count": null,
   "id": "ce7d8a0b",
   "metadata": {},
   "outputs": [],
   "source": []
  }
 ],
 "metadata": {
  "kernelspec": {
   "display_name": "Python 3 (ipykernel)",
   "language": "python",
   "name": "python3"
  },
  "language_info": {
   "codemirror_mode": {
    "name": "ipython",
    "version": 3
   },
   "file_extension": ".py",
   "mimetype": "text/x-python",
   "name": "python",
   "nbconvert_exporter": "python",
   "pygments_lexer": "ipython3",
   "version": "3.9.13"
  }
 },
 "nbformat": 4,
 "nbformat_minor": 5
}
