{
 "cells": [
  {
   "cell_type": "markdown",
   "id": "a960a70f",
   "metadata": {},
   "source": [
    "35. Write a function that returns the longest sequence of consecutive zeroes in a binary string."
   ]
  },
  {
   "cell_type": "code",
   "execution_count": 15,
   "id": "d8811008",
   "metadata": {},
   "outputs": [
    {
     "name": "stdout",
     "output_type": "stream",
     "text": [
      "Enter binary string: 1001010010000010\n",
      "5\n"
     ]
    }
   ],
   "source": [
    "# get input from user\n",
    "str = input(\"Enter binary string: \")\n",
    "count = 0\n",
    "max_count = 0\n",
    "i = 0\n",
    "# Loop through each character in the input string\n",
    "while i < len(str):\n",
    "    if str[i] == '0':\n",
    "        count += 1\n",
    "        # Update the maximum count if the current count is greater\n",
    "        max_count = max(max_count, count)\n",
    "    else:\n",
    "        count = 0\n",
    "    i += 1\n",
    "    \n",
    "# print the length of the longest consecutive streak of '0's in the string\n",
    "print(max_count)"
   ]
  },
  {
   "cell_type": "markdown",
   "id": "28af2bb5",
   "metadata": {},
   "source": [
    "36. Write a function that takes a string of one or more words as an argument and returns the same string, but with all five or more letter words reversed. Strings passed in will consist of only letters and spaces. Spaces will be included only when more than one word is present."
   ]
  },
  {
   "cell_type": "code",
   "execution_count": 3,
   "id": "e68d202f",
   "metadata": {},
   "outputs": [
    {
     "name": "stdout",
     "output_type": "stream",
     "text": [
      "Enter string: Innomatics\n",
      "scitamonnI\n"
     ]
    }
   ],
   "source": [
    "word = str(input(\"Enter string: \"))\n",
    "output = \"\"\n",
    "i = 0\n",
    "\n",
    "if len(word) >= 5:\n",
    "    reversed_word = \"\"   # Reverse the word\n",
    "    i = len(word) - 1\n",
    "    while i >= 0:\n",
    "        reversed_word += word[i]\n",
    "        i -= 1  # You need to decrement the index in the loop\n",
    "\n",
    "    # Print the reversed word\n",
    "    print(reversed_word)\n",
    "else:\n",
    "    # If the word is less than 5 characters, just print it as is\n",
    "    print(word)\n"
   ]
  },
  {
   "cell_type": "markdown",
   "id": "f36b3cd4",
   "metadata": {},
   "source": [
    "37. Create a function that returns the frequency distribution of a list. This function should return an object, where the keys are the unique elements and the values are the frequency in which those elements occur.\n"
   ]
  },
  {
   "cell_type": "code",
   "execution_count": 6,
   "id": "4e9a7a6e",
   "metadata": {},
   "outputs": [
    {
     "name": "stdout",
     "output_type": "stream",
     "text": [
      "{1: 3, 2: 3, 4: 2, 5: 2}\n"
     ]
    }
   ],
   "source": [
    "list = [1,2,4,1,4,2,5,1,2,5]\n",
    "\n",
    "freq_dist = {}  # empty dictionary\n",
    "index = 0  # initially list at zero index\n",
    "\n",
    "while index < len(list):   # loop the list \n",
    "    x = list[index]\n",
    "    if x in freq_dist:     # check if element in dictionary\n",
    "        freq_dist[x] += 1\n",
    "    \n",
    "    else:\n",
    "        freq_dist[x] = 1\n",
    "    index += 1\n",
    "print(freq_dist)"
   ]
  },
  {
   "cell_type": "markdown",
   "id": "cb16d1bf",
   "metadata": {},
   "source": [
    "38. Write a function that returns the groups in the school by year (as a string), separated with a comma and a space in the form of \"1a, 1b, 1c, 1d, 1e, 2a, 2b (....) 5d, 5e, 6a, 6b, 6c, 6d, 6e\"."
   ]
  },
  {
   "cell_type": "code",
   "execution_count": 19,
   "id": "758179ab",
   "metadata": {},
   "outputs": [
    {
     "name": "stdout",
     "output_type": "stream",
     "text": [
      "1a, 1b, 1c, 1d, 1e, 2a, 2b, 2c, 2d, 2e, 3a, 3b, 3c, 3d, 3e, 4a, 4b, 4c, 4d, 4e, 5a, 5b, 5c, 5d, 5e, 6a, 6b, 6c, 6d, 6e\n"
     ]
    }
   ],
   "source": [
    "school_year = \"\"  # string with empty elements  \n",
    "year = 1 \n",
    "while year <=6:\n",
    "    group = \"a\"\n",
    "    while group <= \"e\":\n",
    "        school_year += str(year) + group + \", \"\n",
    "        group = chr(ord(group)+1)\n",
    "        \n",
    "      # increment the year by one\n",
    "    year += 1\n",
    "school_year = school_year.rstrip(\", \")  # removing comma at end\n",
    "print(school_year)"
   ]
  },
  {
   "cell_type": "markdown",
   "id": "8f3934ab",
   "metadata": {},
   "source": [
    "39. Create a function that takes a list of numbers and returns a list where each number is the sum of itself + all previous numbers in the list."
   ]
  },
  {
   "cell_type": "code",
   "execution_count": 5,
   "id": "d1a1f6ec",
   "metadata": {},
   "outputs": [
    {
     "name": "stdout",
     "output_type": "stream",
     "text": [
      "[10, 13, 18, 24, 13]\n"
     ]
    }
   ],
   "source": [
    "num = [10,3,5,6,-11] # input list\n",
    "list = []\n",
    "sum = 0  # current sum\n",
    "index = 0  \n",
    "\n",
    "while index < len(num):\n",
    "    sum = sum + num[index]   # add element to current sum\n",
    "    list.append(sum)     # append the sum\n",
    "    index = index + 1    # increment the index\n",
    "print(list)"
   ]
  },
  {
   "cell_type": "markdown",
   "id": "6ea74a60",
   "metadata": {},
   "source": [
    "40. Create a function that accepts a string as an argument and returns the first non-repeated character."
   ]
  },
  {
   "cell_type": "code",
   "execution_count": 5,
   "id": "cccbc57c",
   "metadata": {},
   "outputs": [
    {
     "name": "stdout",
     "output_type": "stream",
     "text": [
      "Enter string: hello\n",
      "non repeated character: h\n"
     ]
    }
   ],
   "source": [
    "str = input(\"Enter string: \")\n",
    "\n",
    "i = 0  # index\n",
    "while i < len(str): \n",
    "    char = str[i]\n",
    "    # check if the element is non-repeated \n",
    "    if str.count(char) == 1:\n",
    "        print(f\"non repeated character: {char}\")\n",
    "        found = True\n",
    "        break     # exit from the loop"
   ]
  },
  {
   "cell_type": "markdown",
   "id": "1f20c31c",
   "metadata": {},
   "source": [
    "41. Create a function that returns True if an asterisk * is inside a box."
   ]
  },
  {
   "cell_type": "code",
   "execution_count": 11,
   "id": "87a765e8",
   "metadata": {},
   "outputs": [
    {
     "name": "stdout",
     "output_type": "stream",
     "text": [
      "Enter string: hel*lo\n",
      "True\n"
     ]
    }
   ],
   "source": [
    "# get input from user\n",
    "str = input(\"Enter string: \")\n",
    "i = 0   # index\n",
    "asterisk = False\n",
    "\n",
    "while i < len(str):\n",
    "    if str[i] == \"*\":    # check asterisk in string\n",
    "        asterisk = True\n",
    "        print(True)\n",
    "        break   # exit from the loop\n",
    "    i+=1"
   ]
  },
  {
   "cell_type": "markdown",
   "id": "a208c8f6",
   "metadata": {},
   "source": [
    "42. Write a function that takes a list and returns a new list with unique positive (more than 0) numbers."
   ]
  },
  {
   "cell_type": "code",
   "execution_count": 9,
   "id": "af07aa3a",
   "metadata": {},
   "outputs": [
    {
     "name": "stdout",
     "output_type": "stream",
     "text": [
      "[1, 3, 4, 7, 8]\n"
     ]
    }
   ],
   "source": [
    "s = [1,3,4,-5,7,8]\n",
    "list = []     # output list with empty elements\n",
    "i = 0\n",
    "# loop through input list\n",
    "while i < len(s):\n",
    "    a = s[i]      #getting current number\n",
    "    if a > 0:   # check positive numbers\n",
    "        list.append(a)\n",
    "        \n",
    "    i += 1      # increment the index\n",
    "print(list)"
   ]
  },
  {
   "cell_type": "markdown",
   "id": "89f8b604",
   "metadata": {},
   "source": [
    "43. An employee working at a very bizarre company earns one penny on their first day. However, for every day that passes, their base amount doubles, so they earn two pennies on the second day and four pennies on the third day (totalling 7 pennies). Given a number of days, return how many pennies the employee accumulates."
   ]
  },
  {
   "cell_type": "code",
   "execution_count": 7,
   "id": "e79a1472",
   "metadata": {},
   "outputs": [
    {
     "name": "stdout",
     "output_type": "stream",
     "text": [
      "Enter no of days: 6\n",
      "employee earns 3 after pennies 6 days.\n"
     ]
    }
   ],
   "source": [
    "# get input from user\n",
    "p = int(input(\"Enter no of days: \"))\n",
    "a = 1 # first term\n",
    "r = 2  # common ratio is 2\n",
    "sum = 0 # sum of pennies\n",
    "\n",
    "while i < p:\n",
    "    sum = sum + a\n",
    "    a = a * r\n",
    "    i = i + 1\n",
    "    \n",
    "print(\"employee earns\", sum, \"after pennies\", p, \"days.\")"
   ]
  },
  {
   "cell_type": "markdown",
   "id": "61f3a33a",
   "metadata": {},
   "source": [
    "44. Create a function that takes a string as an argument and converts the first character of each word to uppercase. Return the newly formatted string."
   ]
  },
  {
   "cell_type": "code",
   "execution_count": 6,
   "id": "bd4e41c3",
   "metadata": {},
   "outputs": [
    {
     "name": "stdout",
     "output_type": "stream",
     "text": [
      "Enter string: we will celebrate diwali\n",
      "We Will Celebrate Diwali \n"
     ]
    }
   ],
   "source": [
    "# get input from user\n",
    "s = input(\"Enter string: \")\n",
    "a = s.split()   # split the string into list\n",
    "x = \"\"\n",
    "\n",
    "# loop through the list of words\n",
    "while i < len(a):\n",
    "    b = a[i].capitalize()  # capitalize the first letter\n",
    "    x += b + \" \"\n",
    "    i += 1          # increment \n",
    "print(x)    \n"
   ]
  },
  {
   "cell_type": "markdown",
   "id": "d0d8c440",
   "metadata": {},
   "source": [
    "45. Create a function that takes a list of parallel resistance values, and calculates the total resistance of the circuit."
   ]
  },
  {
   "cell_type": "code",
   "execution_count": 27,
   "id": "ada63e41",
   "metadata": {},
   "outputs": [
    {
     "name": "stdout",
     "output_type": "stream",
     "text": [
      "resistors connected to circuit: 5\n",
      " Enter resistance value 1 in ohms: 0.4\n",
      " Enter resistance value 2 in ohms: 0.6\n",
      " Enter resistance value 3 in ohms: 1\n",
      " Enter resistance value 4 in ohms: 0.8\n",
      " Enter resistance value 5 in ohms: 1.2\n",
      "[0.4, 0.6, 1.0, 0.8, 1.2]\n"
     ]
    }
   ],
   "source": [
    "# get input from user\n",
    "r = int(input(\"resistors connected to circuit: \"))\n",
    "\n",
    "resistance = []\n",
    "i = 0\n",
    "\n",
    "while i < r:\n",
    "    # get resistance value from user\n",
    "    p = float(input(f\" Enter resistance value {i + 1} in ohms: \")) \n",
    "    resistance.append(p)   # append resistance to the list\n",
    "    i += 1\n",
    "\n",
    "print(resistance)"
   ]
  },
  {
   "cell_type": "markdown",
   "id": "15fd571f",
   "metadata": {},
   "source": [
    "46. Create a function that will remove the letters \"a\", \"b\" and \"c\" from the given string and return the modified version. If the given string does not contain \"a\", \"b\", or \"c\", return None."
   ]
  },
  {
   "cell_type": "code",
   "execution_count": 4,
   "id": "1febb901",
   "metadata": {},
   "outputs": [
    {
     "name": "stdout",
     "output_type": "stream",
     "text": [
      "Enter string: we are playing cricket\n",
      "The modified string is:   we re plying riket\n"
     ]
    }
   ],
   "source": [
    "str = input(\"Enter string: \")\n",
    "modified = False\n",
    "i = 0\n",
    "while i < len(str):\n",
    "    if str[i] in \"abc\":\n",
    "        str = str[:i] + str[i+1:]\n",
    "        modified = True\n",
    "    else:\n",
    "        i += 1\n",
    "        \n",
    "if modified: # if the flag is True, print the modified string\n",
    "    print(\"The modified string is:  \", str)\n",
    "else: # otherwise, print None\n",
    "    print(None)"
   ]
  },
  {
   "cell_type": "markdown",
   "id": "9eabea42",
   "metadata": {},
   "source": [
    "47. Write a function that takes two lists and adds the first element in the first list with the first element in the second list, the second element in the first list with the second element in the second list, etc, etc. Return True if all element combinations add up to the same number. Otherwise, return False."
   ]
  },
  {
   "cell_type": "code",
   "execution_count": 15,
   "id": "0adfe623",
   "metadata": {},
   "outputs": [
    {
     "name": "stdout",
     "output_type": "stream",
     "text": [
      "[9, 14, 9, 5]\n"
     ]
    }
   ],
   "source": [
    "list1 = [2,9,6,4]\n",
    "list2 = [7,5,3,1]\n",
    "\n",
    "l = []  # empty list\n",
    "i = 0\n",
    "# use loop to iterate over the lists\n",
    "while i < len(list1):\n",
    "    l.append(list1[i] + list2[i])  # append the list\n",
    "    i +=1    # increment the index\n",
    "    \n",
    "print(l)"
   ]
  },
  {
   "cell_type": "code",
   "execution_count": null,
   "id": "bc7fa896",
   "metadata": {},
   "outputs": [],
   "source": []
  },
  {
   "cell_type": "code",
   "execution_count": null,
   "id": "caf59fbb",
   "metadata": {},
   "outputs": [],
   "source": []
  },
  {
   "cell_type": "markdown",
   "id": "98331090",
   "metadata": {},
   "source": [
    "49. Create a function that takes a string and returns a new string with each new character accumulating by +1. Separate each set with a dash."
   ]
  },
  {
   "cell_type": "code",
   "execution_count": 18,
   "id": "72a1af24",
   "metadata": {},
   "outputs": [
    {
     "name": "stdout",
     "output_type": "stream",
     "text": [
      "Enter string: creates\n",
      " c-re-at-es-\n"
     ]
    }
   ],
   "source": [
    "str = input(\"Enter string: \")\n",
    "a = \" \"\n",
    "i = 0\n",
    "\n",
    "while i < len(str):\n",
    "    a += str[i]\n",
    "    a += \"-\"\n",
    "    i +=1\n",
    "    if i < len(str):\n",
    "         a+= str[i]\n",
    "  # increment the counter by 1\n",
    "    i += 1\n",
    "print(a)"
   ]
  },
  {
   "cell_type": "markdown",
   "id": "b1842456",
   "metadata": {},
   "source": [
    "50. Create a function that returns the original value from a list with too many sub-lists."
   ]
  },
  {
   "cell_type": "code",
   "execution_count": 12,
   "id": "5da7dc13",
   "metadata": {},
   "outputs": [
    {
     "ename": "TypeError",
     "evalue": "isinstance() arg 2 must be a type, a tuple of types, or a union",
     "output_type": "error",
     "traceback": [
      "\u001b[1;31m---------------------------------------------------------------------------\u001b[0m",
      "\u001b[1;31mTypeError\u001b[0m                                 Traceback (most recent call last)",
      "Cell \u001b[1;32mIn[12], line 5\u001b[0m\n\u001b[0;32m      2\u001b[0m i \u001b[38;5;241m=\u001b[39m \u001b[38;5;241m0\u001b[39m\n\u001b[0;32m      4\u001b[0m \u001b[38;5;28;01mwhile\u001b[39;00m i \u001b[38;5;241m<\u001b[39m \u001b[38;5;28mlen\u001b[39m(value):\n\u001b[1;32m----> 5\u001b[0m     \u001b[38;5;28;01mif\u001b[39;00m \u001b[38;5;28misinstance\u001b[39m(value[i], \u001b[38;5;28mlist\u001b[39m):\n\u001b[0;32m      6\u001b[0m         value[i:i\u001b[38;5;241m+\u001b[39m\u001b[38;5;241m1\u001b[39m] \u001b[38;5;241m=\u001b[39m value[i][\u001b[38;5;241m0\u001b[39m]\n\u001b[0;32m      7\u001b[0m     \u001b[38;5;28;01melse\u001b[39;00m:\n",
      "\u001b[1;31mTypeError\u001b[0m: isinstance() arg 2 must be a type, a tuple of types, or a union"
     ]
    }
   ],
   "source": [
    "value = [[2, [3, [4, [5]]]]]\n",
    "i = 0\n",
    "\n",
    "while i < len(value):\n",
    "    if isinstance(value[i], list):\n",
    "        value[i:i+1] = value[i][0]\n",
    "    else:\n",
    "        i += 1\n",
    "        \n",
    "print(value)"
   ]
  },
  {
   "cell_type": "markdown",
   "id": "115c1f36",
   "metadata": {},
   "source": [
    "51. A list is special if every even index contains an even number and every odd index contains an odd number. Create a function that returns True if an array is special, and False otherwise."
   ]
  },
  {
   "cell_type": "code",
   "execution_count": 7,
   "id": "55f0f22c",
   "metadata": {},
   "outputs": [
    {
     "name": "stdout",
     "output_type": "stream",
     "text": [
      "False\n"
     ]
    }
   ],
   "source": [
    "list = [ 2,4,6,8,9,12,13,15,17]\n",
    "i = 0\n",
    "while i < len(list):\n",
    "    # check the elements are even or odd\n",
    "    if (i%2 == 0 and list[i]%2 != 0) or (i%2 != 0 and list[i]%2 == 0):\n",
    "        print(False)  # the list is not special \n",
    "        break\n",
    "    else:\n",
    "        i += 1\n",
    "else:\n",
    "    # list is special when loop complete without breaking\n",
    "    print(True)"
   ]
  },
  {
   "cell_type": "markdown",
   "id": "3024ad4b",
   "metadata": {},
   "source": [
    "52. Write a function that returns the position of the second occurrence of \"zip\" in a string, or -1 if it does not occur at least twice. Your code should be general enough to pass every possible case where \"zip\" can occur in a string."
   ]
  },
  {
   "cell_type": "code",
   "execution_count": 8,
   "id": "1a23fc7f",
   "metadata": {},
   "outputs": [
    {
     "name": "stdout",
     "output_type": "stream",
     "text": [
      "Enter string: zipzipzip\n",
      "3\n"
     ]
    }
   ],
   "source": [
    "str = input(\"Enter string: \")\n",
    "i = 0\n",
    "count = 0\n",
    "# while loop to iterate through the string\n",
    "while i < len(str):\n",
    "    if str[i:i+3] == \"zip\":    # checking zip in index\n",
    "        count += 1\n",
    "        \n",
    "        if count == 2:\n",
    "            # if it having,print the index\n",
    "            print(i)\n",
    "            break\n",
    "    i += 1\n",
    "else:\n",
    "    # loop complete without finding the second one\n",
    "    print(-1)"
   ]
  },
  {
   "cell_type": "markdown",
   "id": "160f281b",
   "metadata": {},
   "source": [
    "53. Create a function which adds spaces before every capital in a word. Uncapitalize the whole string afterwards."
   ]
  },
  {
   "cell_type": "code",
   "execution_count": 10,
   "id": "aa561bcb",
   "metadata": {},
   "outputs": [
    {
     "name": "stdout",
     "output_type": "stream",
     "text": [
      "Enter string: HelloWorld\n",
      "hello world\n"
     ]
    }
   ],
   "source": [
    "str = input(\"Enter string: \")\n",
    "i = 1\n",
    "\n",
    "while i < len(str):\n",
    "    # check the character is capital\n",
    "    if str[i].isupper():\n",
    "        str = str[:i] + \" \" + str[i:]  # provide space\n",
    "        i += 2\n",
    "    else:\n",
    "        i += 1\n",
    "str = str.lower()   # for lower string\n",
    "print(str)\n",
    "        "
   ]
  },
  {
   "cell_type": "markdown",
   "id": "d76f0989",
   "metadata": {},
   "source": [
    "54. Create a function that counts the integer's number of digits."
   ]
  },
  {
   "cell_type": "code",
   "execution_count": 12,
   "id": "e1d1c441",
   "metadata": {},
   "outputs": [
    {
     "name": "stdout",
     "output_type": "stream",
     "text": [
      "Enter integer values: 4345284696535\n",
      "13\n"
     ]
    }
   ],
   "source": [
    "# get input from user\n",
    "x = int(input(\"Enter integer values: \"))\n",
    "count = 0\n",
    "\n",
    "while x > 0:\n",
    "    # divide integer by 10 & increment the count value\n",
    "    x //= 10\n",
    "    count += 1\n",
    "    \n",
    "# print number of digits having\n",
    "print(count)"
   ]
  },
  {
   "cell_type": "markdown",
   "id": "69be25f7",
   "metadata": {},
   "source": [
    "55. Create a function that performs an even-odd transform to a list, n times. Each even-odd transformation:\n",
    "\n",
    "* Adds two (+2) to each odd integer.\n",
    "* Subtracts two (-2) from each even integer."
   ]
  },
  {
   "cell_type": "code",
   "execution_count": 16,
   "id": "5235f98b",
   "metadata": {},
   "outputs": [
    {
     "name": "stdout",
     "output_type": "stream",
     "text": [
      "[3, 0, 5, 2, 7, 4, 9, 6, 11, 8]\n"
     ]
    }
   ],
   "source": [
    "list = [1,2,3,4,5,6,7,8,9,10]\n",
    "\n",
    "n = 3   # no of transfromations\n",
    "i = 0\n",
    "\n",
    "while i < n:\n",
    "    for i in range(len(list)):\n",
    "        # check the odd elements\n",
    "        if list[i]%2 != 0:\n",
    "            list[i] += 2  # add +2, if the element is odd\n",
    "        else:\n",
    "            list[i] -= 2   # sub -2, if the element is even\n",
    "    i += 1\n",
    "    \n",
    "# print updated list\n",
    "print(list)"
   ]
  },
  {
   "cell_type": "markdown",
   "id": "09de8601",
   "metadata": {},
   "source": [
    "56. Given a string containing unique letters, return a sorted string with the letters that don't appear in the string."
   ]
  },
  {
   "cell_type": "code",
   "execution_count": 17,
   "id": "4c6c1a13",
   "metadata": {},
   "outputs": [
    {
     "name": "stdout",
     "output_type": "stream",
     "text": [
      "Enter string: we are playing cricket\n",
      "['b', 'd', 'f', 'h', 'j', 'm', 'o', 'q', 's', 'u', 'v', 'x', 'z']\n"
     ]
    }
   ],
   "source": [
    "# get input from user\n",
    "str = input(\"Enter string: \")\n",
    "\n",
    "alpha = 'abcdefghijkklmnopqrstuvwxyz'\n",
    "i = 0\n",
    "x = \"\"     # output string\n",
    "\n",
    "while i < len(alpha):\n",
    "    # check if the current letter is not in the input string\n",
    "    if alpha[i] not in str:\n",
    "        x += alpha[i]\n",
    "    i += 1\n",
    "\n",
    "    # print the sorted output string\n",
    "print(sorted(x))"
   ]
  },
  {
   "cell_type": "markdown",
   "id": "c8c6c1f5",
   "metadata": {},
   "source": [
    "57. Create a function that takes a list of numbers and return \"Boom!\" if the digit 7 appears in the list. Otherwise, return \"there is no 7 in the list\"."
   ]
  },
  {
   "cell_type": "code",
   "execution_count": 6,
   "id": "66a1b686",
   "metadata": {},
   "outputs": [
    {
     "name": "stdout",
     "output_type": "stream",
     "text": [
      "Boom!\n"
     ]
    }
   ],
   "source": [
    "list = [1,2,3,4,5,6,7,8,9]\n",
    "i = 0\n",
    "\n",
    "while i < len(list):\n",
    "    # check the list, the element 7 contains\n",
    "    if \"7\" in str(list):\n",
    "        print(\"Boom!\")\n",
    "        break\n",
    "    i += 1\n",
    "    \n",
    "else:\n",
    "    # loop completes without finding the digit 7, print no 7 in list\n",
    "    print(\"no 7 in list\")"
   ]
  },
  {
   "cell_type": "markdown",
   "id": "1e610eb2",
   "metadata": {},
   "source": [
    "58. Let's assume for the purposes of this challenge that for every layer of fabric you wear when it's cold outside (coats, cardigans, etc), the temperature increases by a tenth of the total.\n",
    "\n",
    "Given n number of layers and a given temperature, return the temperature inside of all those warm fuzzy layers. Round to the nearest tenth of a degree."
   ]
  },
  {
   "cell_type": "code",
   "execution_count": 5,
   "id": "94ff853a",
   "metadata": {},
   "outputs": [
    {
     "name": "stdout",
     "output_type": "stream",
     "text": [
      "16.1\n"
     ]
    }
   ],
   "source": [
    "n = 5   # number of layer\n",
    "temperature = 10\n",
    "i = 0\n",
    "\n",
    "while i < n:\n",
    "    # calculate the temperature \n",
    "    temperature_increase = temperature/10   \n",
    "    temperature += temperature_increase\n",
    "    i += 1\n",
    "    \n",
    "# print the final temperature\n",
    "print(round(temperature,1))"
   ]
  },
  {
   "cell_type": "markdown",
   "id": "4f591a55",
   "metadata": {},
   "source": [
    "59. You are given one input: a list containing eight 1's and/or 0's. Write a function that takes an 8 bit binary number and converts it to decimal."
   ]
  },
  {
   "cell_type": "code",
   "execution_count": 4,
   "id": "4f817454",
   "metadata": {},
   "outputs": [
    {
     "name": "stdout",
     "output_type": "stream",
     "text": [
      "Enter number: 11010100\n",
      "212\n"
     ]
    }
   ],
   "source": [
    "# get input from user\n",
    "x = input(\"Enter number: \")\n",
    "x = list(x)\n",
    "y = 0\n",
    "power = 7\n",
    "while power >= 0:\n",
    "    # check the current bit\n",
    "    if x[power] == '1':\n",
    "        y += 2 ** (7 - power)   #add 2 to the power of the current position\n",
    "    power -= 1\n",
    "\n",
    "# print decimal number\n",
    "print(y)"
   ]
  },
  {
   "cell_type": "markdown",
   "id": "874dfba4",
   "metadata": {},
   "source": [
    "60. Write a function that finds the largest even number in a list. Return -1 if not found. The use of built-in functions max() and sorted() are prohibited."
   ]
  },
  {
   "cell_type": "code",
   "execution_count": 20,
   "id": "48bd646f",
   "metadata": {},
   "outputs": [
    {
     "name": "stdout",
     "output_type": "stream",
     "text": [
      "6\n"
     ]
    }
   ],
   "source": [
    "list = [1,2,3,4,5,6,7,9,11]\n",
    "i = 0\n",
    "largest_even = -1   # initialize the largest even number variable\n",
    "\n",
    "while i < len(list):\n",
    "    # check if the current element is even and larger than the current largest even number\n",
    "    if list[i] % 2 == 0 and list[i] > largest_even:\n",
    "        largest_even = list[i]\n",
    "    i += 1\n",
    "    \n",
    "# Print the largest even number or -1 if not found\n",
    "if largest_even == -1:\n",
    "    print(-1)\n",
    "else:\n",
    "    print(largest_even)"
   ]
  },
  {
   "cell_type": "code",
   "execution_count": null,
   "id": "d1f678ef",
   "metadata": {},
   "outputs": [],
   "source": []
  }
 ],
 "metadata": {
  "kernelspec": {
   "display_name": "Python 3 (ipykernel)",
   "language": "python",
   "name": "python3"
  },
  "language_info": {
   "codemirror_mode": {
    "name": "ipython",
    "version": 3
   },
   "file_extension": ".py",
   "mimetype": "text/x-python",
   "name": "python",
   "nbconvert_exporter": "python",
   "pygments_lexer": "ipython3",
   "version": "3.11.5"
  }
 },
 "nbformat": 4,
 "nbformat_minor": 5
}
