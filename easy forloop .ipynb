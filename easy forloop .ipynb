{
 "cells": [
  {
   "cell_type": "markdown",
   "id": "e8223d8d",
   "metadata": {},
   "source": [
    "35.Write a function that returns the longest sequence of consecutive zeroes in a binary string."
   ]
  },
  {
   "cell_type": "code",
   "execution_count": 8,
   "id": "a303b337",
   "metadata": {},
   "outputs": [
    {
     "name": "stdout",
     "output_type": "stream",
     "text": [
      "Give a binary string:1011\n",
      "The longest consecutive zeroes 1\n"
     ]
    }
   ],
   "source": [
    "\n",
    "bs = str(input(\"Give a binary string:\")) # input takes binary string\n",
    "\n",
    "max_count = 0 #store the max consecutive zeros\n",
    "current_count = 0#store the current consecutive zeros\n",
    "\n",
    "for ch in bs:\n",
    "    current_count = (current_count + 1) * int(ch == '0') # if current count is 0 increment by 1 and ch=0 convert into integer\n",
    "    max_count = max(max_count, current_count)\n",
    "\n",
    "print(\"The longest consecutive zeroes {}\".format(max_count))"
   ]
  },
  {
   "cell_type": "markdown",
   "id": "f2ea268d",
   "metadata": {},
   "source": [
    "36.Write a function that takes a string of one or more words as an argument and returns the same string, but with all five or more letter words reversed. Strings passed in will consist of only letters and spaces. Spaces will be included only when more than one word is present."
   ]
  },
  {
   "cell_type": "code",
   "execution_count": 17,
   "id": "63741709",
   "metadata": {},
   "outputs": [
    {
     "name": "stdout",
     "output_type": "stream",
     "text": [
      "Give a string: I am from Innomatics\n",
      "I am from scitamonnI\n"
     ]
    }
   ],
   "source": [
    "string=input(\"Give a string: \")\n",
    "words=string.split() # here split the string into words\n",
    "for i in range(len(words)):\n",
    "    if len(words[i]) >=5: #here condition checks words  5 or more letter\n",
    "        words[i]=words[i][::-1] # here reversed the words\n",
    "string2=' '.join(words) #  joins the updated string\n",
    "print(string2)\n"
   ]
  },
  {
   "cell_type": "markdown",
   "id": "5fb8df22",
   "metadata": {},
   "source": [
    "37.Create a function that returns the frequency distribution of a list. This function should return an object, where the keys are the unique elements and the values are the frequency in which those elements occur."
   ]
  },
  {
   "cell_type": "code",
   "execution_count": 38,
   "id": "65450b63",
   "metadata": {},
   "outputs": [
    {
     "name": "stdout",
     "output_type": "stream",
     "text": [
      "{'f': 3, 'g': 2, 'v': 1, 'a': 3, 'c': 2, 'r': 1}\n"
     ]
    }
   ],
   "source": [
    "l=['f','g','g','v','a','c','f','a','f','r','a','c']# input\n",
    "freq={} # adding empty frequency distribution\n",
    "for items in l: \n",
    "    freq[items]=l.count(items) #here count funtion used to count the words\n",
    "print(freq)\n",
    "    \n",
    "    \n",
    "    "
   ]
  },
  {
   "cell_type": "markdown",
   "id": "a5e5d2b7",
   "metadata": {},
   "source": [
    "38.Write a function that returns the groups in the school by year (as a string), separated with a comma and a space in the form of \"1a, 1b, 1c, 1d, 1e, 2a, 2b (....) 5d, 5e, 6a, 6b, 6c, 6d, 6e\"."
   ]
  },
  {
   "cell_type": "code",
   "execution_count": 3,
   "id": "e4a7019f",
   "metadata": {},
   "outputs": [
    {
     "name": "stdout",
     "output_type": "stream",
     "text": [
      "1a, 1b, 1c, 1d, 1e, 2a, 2b, 2c, 2d, 2e, 3a, 3b, 3c, 3d, 3e, 4a, 4b, 4c, 4d, 4e, 5a, 5b, 5c, 5d, 5e, 6a, 6b, 6c, 6d, 6e\n"
     ]
    }
   ],
   "source": [
    "#years=range(1,7)\n",
    "#group_names=['a','b','c','d','e']\n",
    "school_group=[] # assing the empty list for schhol group\n",
    "for a in  range(1,7):\n",
    "    for group in group_names:\n",
    "        school_group.append(str(a)+group) # adding the years nd grp names\n",
    "r=\", \".join(school_group) # joining   and spearted by , and space\n",
    "print(r)"
   ]
  },
  {
   "cell_type": "markdown",
   "id": "2af433c7",
   "metadata": {},
   "source": [
    "39.Create a function that takes a list of numbers and returns a list where each number is the sum of itself + all previous numbers in the list.\n"
   ]
  },
  {
   "cell_type": "code",
   "execution_count": 8,
   "id": "7ca7fbe4",
   "metadata": {},
   "outputs": [
    {
     "name": "stdout",
     "output_type": "stream",
     "text": [
      "Enter numbers separated by spaces: 1 2 3\n",
      "[1, 3, 6]\n"
     ]
    }
   ],
   "source": [
    "l = input(\"Enter numbers separated by spaces: \") #input the number \n",
    "numbers = l.split()# here split the number by space\n",
    "new_list = []# assign the empty list \n",
    "j = 0\n",
    "\n",
    "for i in range(len(numbers)):\n",
    "    num = int(numbers[i]) #type casting convert into integer\n",
    "    j += num #\n",
    "    new_list.append(j)# adding to new_list\n",
    "print(new_list)\n"
   ]
  },
  {
   "cell_type": "markdown",
   "id": "0a5fe75d",
   "metadata": {},
   "source": [
    "40.Create a function that accepts a string as an argument and returns the first non-repeated character."
   ]
  },
  {
   "cell_type": "code",
   "execution_count": 10,
   "id": "ed311546",
   "metadata": {},
   "outputs": [
    {
     "name": "stdout",
     "output_type": "stream",
     "text": [
      "Enter a string : pavan\n",
      "p\n"
     ]
    }
   ],
   "source": [
    "string= input(\"Enter a string : \") #input\n",
    "for i in string: \n",
    "    if string.count(i)==1: # if string count is equal to 1 \n",
    "        print(i) \n",
    "        break "
   ]
  },
  {
   "cell_type": "markdown",
   "id": "aa96d26c",
   "metadata": {},
   "source": [
    "41.Create a function that returns True if an asterisk * is inside a box.\n",
    "\n"
   ]
  },
  {
   "cell_type": "code",
   "execution_count": 25,
   "id": "2bec11d6",
   "metadata": {},
   "outputs": [
    {
     "name": "stdout",
     "output_type": "stream",
     "text": [
      "Give a string: zkvnkha*\n",
      "True\n"
     ]
    }
   ],
   "source": [
    "s = input(\"Give a string: \")  # Input the string\n",
    "asterisk = False  \n",
    "for i in s:\n",
    "    if i == '*': # condition check weather * is in string r not\n",
    "        asterisk = True\n",
    "        break \n",
    "print(asterisk)\n"
   ]
  },
  {
   "cell_type": "markdown",
   "id": "8ea51bc7",
   "metadata": {},
   "source": [
    "42.Write a function that takes a list and returns a new list with unique positive (more than 0) numbers."
   ]
  },
  {
   "cell_type": "code",
   "execution_count": 45,
   "id": "07b2f1a9",
   "metadata": {},
   "outputs": [
    {
     "name": "stdout",
     "output_type": "stream",
     "text": [
      "Enter a integer seperated by space: 1 2 5 4 1 2 35 \n",
      "[1, 2, 35, 4, 5]\n"
     ]
    }
   ],
   "source": [
    "a=input(\"Enter a integer seperated by space: \")\n",
    "l=a.split()\n",
    "positive_uniq=set()\n",
    "for b in l:\n",
    "    num=int(b)\n",
    "    if num >0:\n",
    "        positive_uniq.add(num)\n",
    "        new=list(positive_uniq)\n",
    "print(new)    "
   ]
  },
  {
   "cell_type": "markdown",
   "id": "204450f4",
   "metadata": {},
   "source": [
    "43.An employee working at a very bizarre company earns one penny on their first day. However, for every day that passes, their base amount doubles, so they earn two pennies on the second day and four pennies on the third day (totalling 7 pennies). Given a number of days, return how many pennies the employee accumulates."
   ]
  },
  {
   "cell_type": "code",
   "execution_count": 13,
   "id": "a979eb06",
   "metadata": {},
   "outputs": [
    {
     "name": "stdout",
     "output_type": "stream",
     "text": [
      "Enter no of days3\n",
      "The total pay after 3 days is 7\n"
     ]
    }
   ],
   "source": [
    "num_days=int(input(\"Enter no of days\")) # input the no of days\n",
    "day_earn=1 #per day earning \n",
    "total_pennies=0 \n",
    "for day in range(1,num_days+1):# range 1 to num_days + 1\n",
    "    total_pennies+=day_earn\n",
    "    day_earn*=2\n",
    "print(\"The total pay after {} days is {}\".format(num_days,total_pennies))"
   ]
  },
  {
   "cell_type": "markdown",
   "id": "d535763e",
   "metadata": {},
   "source": [
    "44.Create a function that takes a string as an argument and converts the first character of each word to uppercase. Return the newly formatted string."
   ]
  },
  {
   "cell_type": "code",
   "execution_count": 18,
   "id": "1fdf04ed",
   "metadata": {},
   "outputs": [
    {
     "name": "stdout",
     "output_type": "stream",
     "text": [
      "Give a string: Return the newly formatted string.\n",
      "Return The Newly Formatted String.\n"
     ]
    }
   ],
   "source": [
    "string = input(\"Give a string: \")\n",
    "words = string.split()  # Split the input string into words\n",
    "formatted_string = [] # assign empty new formatted string\n",
    "\n",
    "for word in words: \n",
    "    if word:  # condition check word is not empty\n",
    "        capitalize = word.title()# # Capitalize the first character in word\n",
    "        formatted_string.append(capitalize)\n",
    "    else:\n",
    "        formatted_string.append('')  # Add empty string for empty words\n",
    "\n",
    "formatted_string = ' '.join(formatted_string)  # Join the formatted words update into formatted string\n",
    "\n",
    "print(formatted_string)\n"
   ]
  },
  {
   "cell_type": "markdown",
   "id": "a4278a8a",
   "metadata": {},
   "source": [
    "45.Create a function that takes a list of parallel resistance values, and calculates the total resistance of the circuit."
   ]
  },
  {
   "cell_type": "code",
   "execution_count": 4,
   "id": "3482ab49",
   "metadata": {},
   "outputs": [
    {
     "name": "stdout",
     "output_type": "stream",
     "text": [
      "resistors connected to circuit: 6\n",
      "Enter the resistance value for resistor 1 (in ohms): 8\n",
      "Enter the resistance value for resistor 2 (in ohms): 3\n",
      "Enter the resistance value for resistor 3 (in ohms): 9\n",
      "Enter the resistance value for resistor 4 (in ohms): 4\n",
      "Enter the resistance value for resistor 5 (in ohms): 9\n",
      "Enter the resistance value for resistor 6 (in ohms): 7\n",
      "[8.0, 3.0, 9.0, 4.0, 9.0, 7.0]\n"
     ]
    }
   ],
   "source": [
    "# get input from user\n",
    "r = int(input(\"resistors connected to circuit: \"))\n",
    "\n",
    "resistance = []\n",
    "i = 0\n",
    "for i in range(r):\n",
    "    x = float(input(f\"Enter the resistance value for resistor {i + 1} (in ohms): \"))\n",
    "    resistance.append(x)\n",
    "        \n",
    "t = sum(resistance)\n",
    "\n",
    "print(resistance)"
   ]
  },
  {
   "cell_type": "markdown",
   "id": "b0f9fe90",
   "metadata": {},
   "source": [
    "46.Create a function that will remove the letters \"a\", \"b\" and \"c\" from the given string and return the modified version. If the given string does not contain \"a\", \"b\", or \"c\", return None."
   ]
  },
  {
   "cell_type": "code",
   "execution_count": 30,
   "id": "7541e9ea",
   "metadata": {},
   "outputs": [
    {
     "name": "stdout",
     "output_type": "stream",
     "text": [
      "Enter a string: pvn\n",
      "None\n"
     ]
    }
   ],
   "source": [
    "string = input(\"Enter a string: \") # input the string\n",
    "new_string=string # assign same to new_string\n",
    "for w in \"abc\":\n",
    "    new_string = new_string.replace(w, ' ') #replace abc with space\n",
    "if new_string!=string:# check the condition\n",
    "    print(new_string)\n",
    "else:\n",
    "    print(\"None\")\n",
    "\n",
    "\n"
   ]
  },
  {
   "cell_type": "markdown",
   "id": "aa951670",
   "metadata": {},
   "source": [
    "47.Write a function that takes two lists and adds the first element in the first list with the first element in the second list, the second element in the first list with the second element in the second list, etc, etc. Return True if all element combinations add up to the same number. Otherwise, return False."
   ]
  },
  {
   "cell_type": "code",
   "execution_count": 2,
   "id": "224207b6",
   "metadata": {},
   "outputs": [
    {
     "name": "stdout",
     "output_type": "stream",
     "text": [
      "Enter the first list space-separated space: 1234\n",
      "Enter the second list space-separated space: 4321\n",
      "True\n"
     ]
    }
   ],
   "source": [
    "input_str = input(\"Enter the first list space-separated space: \")\n",
    "list1 = [int(x) for x in input_str.split()]\n",
    "list=input_str.split()\n",
    "input_str = input(\"Enter the second list space-separated space: \")\n",
    "list2 = [int(x) for x in input_str.split()]\n",
    "\n",
    "if len(list1) != len(list2):\n",
    "    print(False)\n",
    "else:\n",
    "    total = list1[0] + list2[0]\n",
    "    are_equal = True\n",
    "\n",
    "    for i in range(1, len(list1)):\n",
    "        if list1[i] + list2[i] != total:\n",
    "            are_equal = False\n",
    "            break\n",
    "\n",
    "    print(are_equal)\n"
   ]
  },
  {
   "cell_type": "markdown",
   "id": "ad307669",
   "metadata": {},
   "source": [
    "48.Your friend is trying to write a function to accomplish the following transformations:"
   ]
  },
  {
   "cell_type": "code",
   "execution_count": 24,
   "id": "247620f7",
   "metadata": {},
   "outputs": [
    {
     "name": "stdout",
     "output_type": "stream",
     "text": [
      "Enter integers separated by commas: 5,6,3,7\n",
      "Original list: [5, 6, 3, 7]\n",
      "Modified list: [6, 6, 4, 8]\n"
     ]
    }
   ],
   "source": [
    "lis = input(\"Enter integers separated by commas: \")\n",
    "list2 = lis.split(',') # split  the values by ,\n",
    "list1 = [int(x) for x in list2] #list comphresion\n",
    "\n",
    "new_list = []  # Initialize an empty list for modified values\n",
    "for i in range(len(list1)):\n",
    "    if i in [0, 2, 5,3]: # check the value\n",
    "        new_list.append(list1[i] + 1)\n",
    "    else:\n",
    "        new_list.append(list1[i])\n",
    "\n",
    "print(\"Original list:\", list1)\n",
    "print(\"new list:\", new_list)\n"
   ]
  },
  {
   "cell_type": "markdown",
   "id": "3096be08",
   "metadata": {},
   "source": [
    "49.Create a function that takes a string and returns a new string with each new character accumulating by +1. Separate each set with a dash."
   ]
  },
  {
   "cell_type": "code",
   "execution_count": 9,
   "id": "6d8f8913",
   "metadata": {},
   "outputs": [
    {
     "name": "stdout",
     "output_type": "stream",
     "text": [
      "Enter a string: pavan\n",
      "P-Aa-Vvv-Aaaa-Nnnnn\n"
     ]
    }
   ],
   "source": [
    "s = input(\"Enter a string: \") # input the string\n",
    "new_string = [] # empty string \n",
    "\n",
    "for i in range(len(s)): #forloop\n",
    "    new_string.append(s[i].upper() + s[i].lower() * i) #here first leter captial and remanins lowers and increment\n",
    "\n",
    "r = '-'.join(new_string) # join with '-'\n",
    "print(r)\n",
    "\n"
   ]
  },
  {
   "cell_type": "markdown",
   "id": "48f1f893",
   "metadata": {},
   "source": [
    "50.Create a function that returns the original value from a list with too many sub-lists."
   ]
  },
  {
   "cell_type": "code",
   "execution_count": 3,
   "id": "2c54fa8b",
   "metadata": {},
   "outputs": [
    {
     "name": "stdout",
     "output_type": "stream",
     "text": [
      "[[[[5]]]]\n"
     ]
    }
   ],
   "source": [
    "value = [[[[[5]]]]]\n",
    "x = []\n",
    "\n",
    "for sublist in value:\n",
    "    if isinstance(sublist, list):\n",
    "        x.extend(sublist)\n",
    "    else:\n",
    "        x.append(sublist)\n",
    "\n",
    "print(x)"
   ]
  },
  {
   "cell_type": "markdown",
   "id": "b5df0f1f",
   "metadata": {},
   "source": [
    "51.A list is special if every even index contains an even number and every odd index contains an odd number. Create a function that returns True if an array is special, and False otherwise."
   ]
  },
  {
   "cell_type": "code",
   "execution_count": 13,
   "id": "5a790766",
   "metadata": {},
   "outputs": [
    {
     "name": "stdout",
     "output_type": "stream",
     "text": [
      "Enter a numbers: 1,1,6,1,461,9\n",
      "False\n"
     ]
    }
   ],
   "source": [
    "a = input(\"Enter a numbers: \") #input the user \n",
    "b = a.split(',')# heree split the number using comma\n",
    "arr = [int(x) for x in b]#list comphreshion\n",
    "\n",
    "is_special = True\n",
    "\n",
    "for i in range(len(arr)): #forloop\n",
    "    if i % 2 == 0 and arr[i] % 2 != 0:#here even number odd number\n",
    "        is_special = False\n",
    "        break #break the llop\n",
    "    if i % 2 == 1 and arr[i] % 2 != 1:\n",
    "        is_special = False\n",
    "        break\n",
    "\n",
    "print(is_special)\n"
   ]
  },
  {
   "cell_type": "markdown",
   "id": "ed05a3ee",
   "metadata": {},
   "source": [
    "52.Write a function that returns the position of the second occurrence of \"zip\" in a string, or -1 if it does not occur at least twice. Your code should be general enough to pass every possible case where \"zip\" can occur in a string."
   ]
  },
  {
   "cell_type": "code",
   "execution_count": 2,
   "id": "2118d643",
   "metadata": {},
   "outputs": [
    {
     "name": "stdout",
     "output_type": "stream",
     "text": [
      "Enter string: zipzipzip\n",
      "3\n"
     ]
    }
   ],
   "source": [
    "str = input(\"Enter string: \")\n",
    "count = 0\n",
    "i = 0\n",
    "for i in range(len(str)):\n",
    "    if str[i:i+3] == \"zip\":\n",
    "        count += 1\n",
    "        if count == 2:\n",
    "            print(i)\n",
    "            break\n",
    "    i += 1\n",
    "else:\n",
    "    print(-1)"
   ]
  },
  {
   "cell_type": "code",
   "execution_count": null,
   "id": "c468f340",
   "metadata": {},
   "outputs": [],
   "source": []
  }
 ],
 "metadata": {
  "kernelspec": {
   "display_name": "Python 3 (ipykernel)",
   "language": "python",
   "name": "python3"
  },
  "language_info": {
   "codemirror_mode": {
    "name": "ipython",
    "version": 3
   },
   "file_extension": ".py",
   "mimetype": "text/x-python",
   "name": "python",
   "nbconvert_exporter": "python",
   "pygments_lexer": "ipython3",
   "version": "3.9.13"
  }
 },
 "nbformat": 4,
 "nbformat_minor": 5
}
